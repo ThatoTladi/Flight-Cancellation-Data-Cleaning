{
 "cells": [
  {
   "cell_type": "code",
   "execution_count": 23,
   "id": "e8fd18e4-d8e0-4d60-b97e-6951fa2c822e",
   "metadata": {},
   "outputs": [],
   "source": [
    "#importing libraries \n",
    "import pandas as pd\n",
    "import numpy as np\n",
    "import seaborn as sns\n",
    "import matplotlib.pyplot as plt"
   ]
  },
  {
   "cell_type": "code",
   "execution_count": 24,
   "id": "f53c94ab-3a4b-4c05-930e-767abc29554e",
   "metadata": {},
   "outputs": [],
   "source": [
    "#loading data\n",
    "df = pd.read_csv(\"Flyzy Flight Cancellation.csv\")"
   ]
  },
  {
   "cell_type": "code",
   "execution_count": 5,
   "id": "fb37dded-ab44-4379-8d8f-da755119b2c4",
   "metadata": {},
   "outputs": [
    {
     "data": {
      "text/html": [
       "<div>\n",
       "<style scoped>\n",
       "    .dataframe tbody tr th:only-of-type {\n",
       "        vertical-align: middle;\n",
       "    }\n",
       "\n",
       "    .dataframe tbody tr th {\n",
       "        vertical-align: top;\n",
       "    }\n",
       "\n",
       "    .dataframe thead th {\n",
       "        text-align: right;\n",
       "    }\n",
       "</style>\n",
       "<table border=\"1\" class=\"dataframe\">\n",
       "  <thead>\n",
       "    <tr style=\"text-align: right;\">\n",
       "      <th></th>\n",
       "      <th>Flight ID</th>\n",
       "      <th>Airline</th>\n",
       "      <th>Flight_Distance</th>\n",
       "      <th>Origin_Airport</th>\n",
       "      <th>Destination_Airport</th>\n",
       "      <th>Scheduled_Departure_Time</th>\n",
       "      <th>Day_of_Week</th>\n",
       "      <th>Month</th>\n",
       "      <th>Airplane_Type</th>\n",
       "      <th>Weather_Score</th>\n",
       "      <th>Previous_Flight_Delay_Minutes</th>\n",
       "      <th>Airline_Rating</th>\n",
       "      <th>Passenger_Load</th>\n",
       "      <th>Flight_Cancelled</th>\n",
       "    </tr>\n",
       "  </thead>\n",
       "  <tbody>\n",
       "    <tr>\n",
       "      <th>0</th>\n",
       "      <td>7319483</td>\n",
       "      <td>Airline D</td>\n",
       "      <td>475</td>\n",
       "      <td>Airport 3</td>\n",
       "      <td>Airport 2</td>\n",
       "      <td>4</td>\n",
       "      <td>6</td>\n",
       "      <td>1</td>\n",
       "      <td>Type C</td>\n",
       "      <td>0.225122</td>\n",
       "      <td>5.0</td>\n",
       "      <td>2.151974</td>\n",
       "      <td>0.477202</td>\n",
       "      <td>0</td>\n",
       "    </tr>\n",
       "    <tr>\n",
       "      <th>1</th>\n",
       "      <td>4791965</td>\n",
       "      <td>Airline E</td>\n",
       "      <td>538</td>\n",
       "      <td>Airport 5</td>\n",
       "      <td>Airport 4</td>\n",
       "      <td>12</td>\n",
       "      <td>1</td>\n",
       "      <td>6</td>\n",
       "      <td>Type B</td>\n",
       "      <td>0.060346</td>\n",
       "      <td>68.0</td>\n",
       "      <td>1.600779</td>\n",
       "      <td>0.159718</td>\n",
       "      <td>1</td>\n",
       "    </tr>\n",
       "    <tr>\n",
       "      <th>2</th>\n",
       "      <td>2991718</td>\n",
       "      <td>Airline C</td>\n",
       "      <td>565</td>\n",
       "      <td>Airport 1</td>\n",
       "      <td>Airport 2</td>\n",
       "      <td>17</td>\n",
       "      <td>3</td>\n",
       "      <td>9</td>\n",
       "      <td>Type C</td>\n",
       "      <td>0.093920</td>\n",
       "      <td>18.0</td>\n",
       "      <td>4.406848</td>\n",
       "      <td>0.256803</td>\n",
       "      <td>0</td>\n",
       "    </tr>\n",
       "    <tr>\n",
       "      <th>3</th>\n",
       "      <td>4220106</td>\n",
       "      <td>Airline E</td>\n",
       "      <td>658</td>\n",
       "      <td>Airport 5</td>\n",
       "      <td>Airport 3</td>\n",
       "      <td>1</td>\n",
       "      <td>1</td>\n",
       "      <td>8</td>\n",
       "      <td>Type B</td>\n",
       "      <td>0.656750</td>\n",
       "      <td>13.0</td>\n",
       "      <td>0.998757</td>\n",
       "      <td>0.504077</td>\n",
       "      <td>1</td>\n",
       "    </tr>\n",
       "    <tr>\n",
       "      <th>4</th>\n",
       "      <td>2263008</td>\n",
       "      <td>Airline E</td>\n",
       "      <td>566</td>\n",
       "      <td>Airport 2</td>\n",
       "      <td>Airport 2</td>\n",
       "      <td>19</td>\n",
       "      <td>7</td>\n",
       "      <td>12</td>\n",
       "      <td>Type E</td>\n",
       "      <td>0.505211</td>\n",
       "      <td>4.0</td>\n",
       "      <td>3.806206</td>\n",
       "      <td>0.019638</td>\n",
       "      <td>0</td>\n",
       "    </tr>\n",
       "  </tbody>\n",
       "</table>\n",
       "</div>"
      ],
      "text/plain": [
       "   Flight ID    Airline  Flight_Distance Origin_Airport Destination_Airport  \\\n",
       "0    7319483  Airline D              475      Airport 3           Airport 2   \n",
       "1    4791965  Airline E              538      Airport 5           Airport 4   \n",
       "2    2991718  Airline C              565      Airport 1           Airport 2   \n",
       "3    4220106  Airline E              658      Airport 5           Airport 3   \n",
       "4    2263008  Airline E              566      Airport 2           Airport 2   \n",
       "\n",
       "   Scheduled_Departure_Time  Day_of_Week  Month Airplane_Type  Weather_Score  \\\n",
       "0                         4            6      1        Type C       0.225122   \n",
       "1                        12            1      6        Type B       0.060346   \n",
       "2                        17            3      9        Type C       0.093920   \n",
       "3                         1            1      8        Type B       0.656750   \n",
       "4                        19            7     12        Type E       0.505211   \n",
       "\n",
       "   Previous_Flight_Delay_Minutes  Airline_Rating  Passenger_Load  \\\n",
       "0                            5.0        2.151974        0.477202   \n",
       "1                           68.0        1.600779        0.159718   \n",
       "2                           18.0        4.406848        0.256803   \n",
       "3                           13.0        0.998757        0.504077   \n",
       "4                            4.0        3.806206        0.019638   \n",
       "\n",
       "   Flight_Cancelled  \n",
       "0                 0  \n",
       "1                 1  \n",
       "2                 0  \n",
       "3                 1  \n",
       "4                 0  "
      ]
     },
     "execution_count": 5,
     "metadata": {},
     "output_type": "execute_result"
    }
   ],
   "source": [
    "df.head()"
   ]
  },
  {
   "cell_type": "code",
   "execution_count": 6,
   "id": "98b6e858-a0d2-4137-b577-556a3f66d9a3",
   "metadata": {},
   "outputs": [
    {
     "data": {
      "text/html": [
       "<div>\n",
       "<style scoped>\n",
       "    .dataframe tbody tr th:only-of-type {\n",
       "        vertical-align: middle;\n",
       "    }\n",
       "\n",
       "    .dataframe tbody tr th {\n",
       "        vertical-align: top;\n",
       "    }\n",
       "\n",
       "    .dataframe thead th {\n",
       "        text-align: right;\n",
       "    }\n",
       "</style>\n",
       "<table border=\"1\" class=\"dataframe\">\n",
       "  <thead>\n",
       "    <tr style=\"text-align: right;\">\n",
       "      <th></th>\n",
       "      <th>Flight ID</th>\n",
       "      <th>Airline</th>\n",
       "      <th>Flight_Distance</th>\n",
       "      <th>Origin_Airport</th>\n",
       "      <th>Destination_Airport</th>\n",
       "      <th>Scheduled_Departure_Time</th>\n",
       "      <th>Day_of_Week</th>\n",
       "      <th>Month</th>\n",
       "      <th>Airplane_Type</th>\n",
       "      <th>Weather_Score</th>\n",
       "      <th>Previous_Flight_Delay_Minutes</th>\n",
       "      <th>Airline_Rating</th>\n",
       "      <th>Passenger_Load</th>\n",
       "      <th>Flight_Cancelled</th>\n",
       "    </tr>\n",
       "  </thead>\n",
       "  <tbody>\n",
       "    <tr>\n",
       "      <th>2995</th>\n",
       "      <td>1265781</td>\n",
       "      <td>Airline D</td>\n",
       "      <td>395</td>\n",
       "      <td>Airport 2</td>\n",
       "      <td>Airport 3</td>\n",
       "      <td>0</td>\n",
       "      <td>6</td>\n",
       "      <td>1</td>\n",
       "      <td>Type B</td>\n",
       "      <td>0.190018</td>\n",
       "      <td>1.00000</td>\n",
       "      <td>2.451216</td>\n",
       "      <td>0.283440</td>\n",
       "      <td>1</td>\n",
       "    </tr>\n",
       "    <tr>\n",
       "      <th>2996</th>\n",
       "      <td>5440150</td>\n",
       "      <td>Airline E</td>\n",
       "      <td>547</td>\n",
       "      <td>Airport 1</td>\n",
       "      <td>Airport 4</td>\n",
       "      <td>22</td>\n",
       "      <td>4</td>\n",
       "      <td>7</td>\n",
       "      <td>Type E</td>\n",
       "      <td>0.719271</td>\n",
       "      <td>91.00000</td>\n",
       "      <td>0.027039</td>\n",
       "      <td>0.665294</td>\n",
       "      <td>1</td>\n",
       "    </tr>\n",
       "    <tr>\n",
       "      <th>2997</th>\n",
       "      <td>779080</td>\n",
       "      <td>Airline C</td>\n",
       "      <td>461</td>\n",
       "      <td>Airport 1</td>\n",
       "      <td>Airport 3</td>\n",
       "      <td>8</td>\n",
       "      <td>3</td>\n",
       "      <td>1</td>\n",
       "      <td>Type B</td>\n",
       "      <td>0.458724</td>\n",
       "      <td>3.00000</td>\n",
       "      <td>1.131315</td>\n",
       "      <td>0.991307</td>\n",
       "      <td>0</td>\n",
       "    </tr>\n",
       "    <tr>\n",
       "      <th>2998</th>\n",
       "      <td>4044431</td>\n",
       "      <td>Airline B</td>\n",
       "      <td>464</td>\n",
       "      <td>Airport 3</td>\n",
       "      <td>Airport 3</td>\n",
       "      <td>5</td>\n",
       "      <td>5</td>\n",
       "      <td>3</td>\n",
       "      <td>Type E</td>\n",
       "      <td>0.443373</td>\n",
       "      <td>46.00000</td>\n",
       "      <td>0.968651</td>\n",
       "      <td>0.254808</td>\n",
       "      <td>1</td>\n",
       "    </tr>\n",
       "    <tr>\n",
       "      <th>2999</th>\n",
       "      <td>2806578</td>\n",
       "      <td>Airline A</td>\n",
       "      <td>369</td>\n",
       "      <td>Airport 1</td>\n",
       "      <td>Airport 2</td>\n",
       "      <td>1</td>\n",
       "      <td>1</td>\n",
       "      <td>10</td>\n",
       "      <td>Type A</td>\n",
       "      <td>0.704563</td>\n",
       "      <td>18.66667</td>\n",
       "      <td>1.879411</td>\n",
       "      <td>0.532486</td>\n",
       "      <td>1</td>\n",
       "    </tr>\n",
       "  </tbody>\n",
       "</table>\n",
       "</div>"
      ],
      "text/plain": [
       "      Flight ID    Airline  Flight_Distance Origin_Airport  \\\n",
       "2995    1265781  Airline D              395      Airport 2   \n",
       "2996    5440150  Airline E              547      Airport 1   \n",
       "2997     779080  Airline C              461      Airport 1   \n",
       "2998    4044431  Airline B              464      Airport 3   \n",
       "2999    2806578  Airline A              369      Airport 1   \n",
       "\n",
       "     Destination_Airport  Scheduled_Departure_Time  Day_of_Week  Month  \\\n",
       "2995           Airport 3                         0            6      1   \n",
       "2996           Airport 4                        22            4      7   \n",
       "2997           Airport 3                         8            3      1   \n",
       "2998           Airport 3                         5            5      3   \n",
       "2999           Airport 2                         1            1     10   \n",
       "\n",
       "     Airplane_Type  Weather_Score  Previous_Flight_Delay_Minutes  \\\n",
       "2995        Type B       0.190018                        1.00000   \n",
       "2996        Type E       0.719271                       91.00000   \n",
       "2997        Type B       0.458724                        3.00000   \n",
       "2998        Type E       0.443373                       46.00000   \n",
       "2999        Type A       0.704563                       18.66667   \n",
       "\n",
       "      Airline_Rating  Passenger_Load  Flight_Cancelled  \n",
       "2995        2.451216        0.283440                 1  \n",
       "2996        0.027039        0.665294                 1  \n",
       "2997        1.131315        0.991307                 0  \n",
       "2998        0.968651        0.254808                 1  \n",
       "2999        1.879411        0.532486                 1  "
      ]
     },
     "execution_count": 6,
     "metadata": {},
     "output_type": "execute_result"
    }
   ],
   "source": [
    "df.tail()"
   ]
  },
  {
   "cell_type": "code",
   "execution_count": 7,
   "id": "35ec99ca-5fa2-49bc-a421-1fc672b5cc39",
   "metadata": {},
   "outputs": [
    {
     "data": {
      "text/plain": [
       "(3000, 14)"
      ]
     },
     "execution_count": 7,
     "metadata": {},
     "output_type": "execute_result"
    }
   ],
   "source": [
    "df.shape"
   ]
  },
  {
   "cell_type": "code",
   "execution_count": 8,
   "id": "7fae1b9d-c43b-4ddb-8b6c-f57b4fd2d1e9",
   "metadata": {},
   "outputs": [
    {
     "data": {
      "text/plain": [
       "Index(['Flight ID', 'Airline', 'Flight_Distance', 'Origin_Airport',\n",
       "       'Destination_Airport', 'Scheduled_Departure_Time', 'Day_of_Week',\n",
       "       'Month', 'Airplane_Type', 'Weather_Score',\n",
       "       'Previous_Flight_Delay_Minutes', 'Airline_Rating', 'Passenger_Load',\n",
       "       'Flight_Cancelled'],\n",
       "      dtype='object')"
      ]
     },
     "execution_count": 8,
     "metadata": {},
     "output_type": "execute_result"
    }
   ],
   "source": [
    "df.columns"
   ]
  },
  {
   "cell_type": "markdown",
   "id": "e3092970-6935-4712-8e9d-915418ed02c6",
   "metadata": {},
   "source": [
    "Observation: Most of the column names consist of multiple words seperated by underscores,but 'Flight ID' does not\n",
    "follow this format, therefore we need to change it to keep consistancy."
   ]
  },
  {
   "cell_type": "code",
   "execution_count": 9,
   "id": "2befa595-205a-481e-b43e-f1b8f61c1347",
   "metadata": {},
   "outputs": [],
   "source": [
    "#Changing column name \n",
    "df.rename(columns={'Flight ID' : 'Flight_ID'}, inplace =True)"
   ]
  },
  {
   "cell_type": "code",
   "execution_count": 10,
   "id": "d53f97c9-be2f-4d2c-8405-54cab8d71a5f",
   "metadata": {},
   "outputs": [
    {
     "data": {
      "text/html": [
       "<div>\n",
       "<style scoped>\n",
       "    .dataframe tbody tr th:only-of-type {\n",
       "        vertical-align: middle;\n",
       "    }\n",
       "\n",
       "    .dataframe tbody tr th {\n",
       "        vertical-align: top;\n",
       "    }\n",
       "\n",
       "    .dataframe thead th {\n",
       "        text-align: right;\n",
       "    }\n",
       "</style>\n",
       "<table border=\"1\" class=\"dataframe\">\n",
       "  <thead>\n",
       "    <tr style=\"text-align: right;\">\n",
       "      <th></th>\n",
       "      <th>Flight_ID</th>\n",
       "      <th>Airline</th>\n",
       "      <th>Flight_Distance</th>\n",
       "      <th>Origin_Airport</th>\n",
       "      <th>Destination_Airport</th>\n",
       "      <th>Scheduled_Departure_Time</th>\n",
       "      <th>Day_of_Week</th>\n",
       "      <th>Month</th>\n",
       "      <th>Airplane_Type</th>\n",
       "      <th>Weather_Score</th>\n",
       "      <th>Previous_Flight_Delay_Minutes</th>\n",
       "      <th>Airline_Rating</th>\n",
       "      <th>Passenger_Load</th>\n",
       "      <th>Flight_Cancelled</th>\n",
       "    </tr>\n",
       "  </thead>\n",
       "  <tbody>\n",
       "    <tr>\n",
       "      <th>0</th>\n",
       "      <td>7319483</td>\n",
       "      <td>Airline D</td>\n",
       "      <td>475</td>\n",
       "      <td>Airport 3</td>\n",
       "      <td>Airport 2</td>\n",
       "      <td>4</td>\n",
       "      <td>6</td>\n",
       "      <td>1</td>\n",
       "      <td>Type C</td>\n",
       "      <td>0.225122</td>\n",
       "      <td>5.0</td>\n",
       "      <td>2.151974</td>\n",
       "      <td>0.477202</td>\n",
       "      <td>0</td>\n",
       "    </tr>\n",
       "    <tr>\n",
       "      <th>1</th>\n",
       "      <td>4791965</td>\n",
       "      <td>Airline E</td>\n",
       "      <td>538</td>\n",
       "      <td>Airport 5</td>\n",
       "      <td>Airport 4</td>\n",
       "      <td>12</td>\n",
       "      <td>1</td>\n",
       "      <td>6</td>\n",
       "      <td>Type B</td>\n",
       "      <td>0.060346</td>\n",
       "      <td>68.0</td>\n",
       "      <td>1.600779</td>\n",
       "      <td>0.159718</td>\n",
       "      <td>1</td>\n",
       "    </tr>\n",
       "  </tbody>\n",
       "</table>\n",
       "</div>"
      ],
      "text/plain": [
       "   Flight_ID    Airline  Flight_Distance Origin_Airport Destination_Airport  \\\n",
       "0    7319483  Airline D              475      Airport 3           Airport 2   \n",
       "1    4791965  Airline E              538      Airport 5           Airport 4   \n",
       "\n",
       "   Scheduled_Departure_Time  Day_of_Week  Month Airplane_Type  Weather_Score  \\\n",
       "0                         4            6      1        Type C       0.225122   \n",
       "1                        12            1      6        Type B       0.060346   \n",
       "\n",
       "   Previous_Flight_Delay_Minutes  Airline_Rating  Passenger_Load  \\\n",
       "0                            5.0        2.151974        0.477202   \n",
       "1                           68.0        1.600779        0.159718   \n",
       "\n",
       "   Flight_Cancelled  \n",
       "0                 0  \n",
       "1                 1  "
      ]
     },
     "execution_count": 10,
     "metadata": {},
     "output_type": "execute_result"
    }
   ],
   "source": [
    "df.head(2)"
   ]
  },
  {
   "cell_type": "markdown",
   "id": "05d4857b-423a-4d9d-9ab3-bc1ef5eb7ed3",
   "metadata": {},
   "source": [
    "**CHECKING DATA TYPES OF EACH COLUMN**"
   ]
  },
  {
   "cell_type": "code",
   "execution_count": 11,
   "id": "d82bc494-b706-4aba-bfca-9544cd3b2e14",
   "metadata": {},
   "outputs": [
    {
     "name": "stdout",
     "output_type": "stream",
     "text": [
      "<class 'pandas.core.frame.DataFrame'>\n",
      "RangeIndex: 3000 entries, 0 to 2999\n",
      "Data columns (total 14 columns):\n",
      " #   Column                         Non-Null Count  Dtype  \n",
      "---  ------                         --------------  -----  \n",
      " 0   Flight_ID                      3000 non-null   int64  \n",
      " 1   Airline                        3000 non-null   object \n",
      " 2   Flight_Distance                3000 non-null   int64  \n",
      " 3   Origin_Airport                 3000 non-null   object \n",
      " 4   Destination_Airport            3000 non-null   object \n",
      " 5   Scheduled_Departure_Time       3000 non-null   int64  \n",
      " 6   Day_of_Week                    3000 non-null   int64  \n",
      " 7   Month                          3000 non-null   int64  \n",
      " 8   Airplane_Type                  3000 non-null   object \n",
      " 9   Weather_Score                  3000 non-null   float64\n",
      " 10  Previous_Flight_Delay_Minutes  3000 non-null   float64\n",
      " 11  Airline_Rating                 3000 non-null   float64\n",
      " 12  Passenger_Load                 3000 non-null   float64\n",
      " 13  Flight_Cancelled               3000 non-null   int64  \n",
      "dtypes: float64(4), int64(6), object(4)\n",
      "memory usage: 328.3+ KB\n"
     ]
    }
   ],
   "source": [
    "df.info()"
   ]
  },
  {
   "cell_type": "markdown",
   "id": "44adea3f-c6ed-4f73-820f-52a85bd85b69",
   "metadata": {},
   "source": [
    "**Observation: This results indicate that all columns have the correct data types according to the data they contain**"
   ]
  },
  {
   "cell_type": "code",
   "execution_count": 12,
   "id": "b63c254c-83c3-4adc-9e91-332252204034",
   "metadata": {},
   "outputs": [
    {
     "data": {
      "text/html": [
       "<div>\n",
       "<style scoped>\n",
       "    .dataframe tbody tr th:only-of-type {\n",
       "        vertical-align: middle;\n",
       "    }\n",
       "\n",
       "    .dataframe tbody tr th {\n",
       "        vertical-align: top;\n",
       "    }\n",
       "\n",
       "    .dataframe thead th {\n",
       "        text-align: right;\n",
       "    }\n",
       "</style>\n",
       "<table border=\"1\" class=\"dataframe\">\n",
       "  <thead>\n",
       "    <tr style=\"text-align: right;\">\n",
       "      <th></th>\n",
       "      <th>Flight_ID</th>\n",
       "      <th>Flight_Distance</th>\n",
       "      <th>Scheduled_Departure_Time</th>\n",
       "      <th>Day_of_Week</th>\n",
       "      <th>Month</th>\n",
       "      <th>Weather_Score</th>\n",
       "      <th>Previous_Flight_Delay_Minutes</th>\n",
       "      <th>Airline_Rating</th>\n",
       "      <th>Passenger_Load</th>\n",
       "      <th>Flight_Cancelled</th>\n",
       "    </tr>\n",
       "  </thead>\n",
       "  <tbody>\n",
       "    <tr>\n",
       "      <th>count</th>\n",
       "      <td>3.000000e+03</td>\n",
       "      <td>3000.000000</td>\n",
       "      <td>3000.000000</td>\n",
       "      <td>3000.000000</td>\n",
       "      <td>3000.000000</td>\n",
       "      <td>3000.000000</td>\n",
       "      <td>3000.000000</td>\n",
       "      <td>3000.000000</td>\n",
       "      <td>3000.000000</td>\n",
       "      <td>3000.000000</td>\n",
       "    </tr>\n",
       "    <tr>\n",
       "      <th>mean</th>\n",
       "      <td>4.997429e+06</td>\n",
       "      <td>498.909333</td>\n",
       "      <td>11.435000</td>\n",
       "      <td>3.963000</td>\n",
       "      <td>6.381000</td>\n",
       "      <td>0.524023</td>\n",
       "      <td>26.793383</td>\n",
       "      <td>2.317439</td>\n",
       "      <td>0.515885</td>\n",
       "      <td>0.690667</td>\n",
       "    </tr>\n",
       "    <tr>\n",
       "      <th>std</th>\n",
       "      <td>2.868139e+06</td>\n",
       "      <td>98.892266</td>\n",
       "      <td>6.899298</td>\n",
       "      <td>2.016346</td>\n",
       "      <td>3.473979</td>\n",
       "      <td>0.290694</td>\n",
       "      <td>27.874733</td>\n",
       "      <td>1.430386</td>\n",
       "      <td>0.295634</td>\n",
       "      <td>0.462296</td>\n",
       "    </tr>\n",
       "    <tr>\n",
       "      <th>min</th>\n",
       "      <td>3.681000e+03</td>\n",
       "      <td>138.000000</td>\n",
       "      <td>0.000000</td>\n",
       "      <td>1.000000</td>\n",
       "      <td>1.000000</td>\n",
       "      <td>0.000965</td>\n",
       "      <td>0.000000</td>\n",
       "      <td>0.000103</td>\n",
       "      <td>0.001039</td>\n",
       "      <td>0.000000</td>\n",
       "    </tr>\n",
       "    <tr>\n",
       "      <th>25%</th>\n",
       "      <td>2.520313e+06</td>\n",
       "      <td>431.000000</td>\n",
       "      <td>6.000000</td>\n",
       "      <td>2.000000</td>\n",
       "      <td>3.000000</td>\n",
       "      <td>0.278011</td>\n",
       "      <td>7.000000</td>\n",
       "      <td>1.092902</td>\n",
       "      <td>0.265793</td>\n",
       "      <td>0.000000</td>\n",
       "    </tr>\n",
       "    <tr>\n",
       "      <th>50%</th>\n",
       "      <td>5.073096e+06</td>\n",
       "      <td>497.000000</td>\n",
       "      <td>12.000000</td>\n",
       "      <td>4.000000</td>\n",
       "      <td>6.000000</td>\n",
       "      <td>0.522180</td>\n",
       "      <td>18.000000</td>\n",
       "      <td>2.126614</td>\n",
       "      <td>0.517175</td>\n",
       "      <td>1.000000</td>\n",
       "    </tr>\n",
       "    <tr>\n",
       "      <th>75%</th>\n",
       "      <td>7.462026e+06</td>\n",
       "      <td>566.000000</td>\n",
       "      <td>17.000000</td>\n",
       "      <td>6.000000</td>\n",
       "      <td>9.000000</td>\n",
       "      <td>0.776323</td>\n",
       "      <td>38.000000</td>\n",
       "      <td>3.525746</td>\n",
       "      <td>0.770370</td>\n",
       "      <td>1.000000</td>\n",
       "    </tr>\n",
       "    <tr>\n",
       "      <th>max</th>\n",
       "      <td>9.999011e+06</td>\n",
       "      <td>864.000000</td>\n",
       "      <td>23.000000</td>\n",
       "      <td>7.000000</td>\n",
       "      <td>12.000000</td>\n",
       "      <td>1.099246</td>\n",
       "      <td>259.000000</td>\n",
       "      <td>5.189038</td>\n",
       "      <td>1.123559</td>\n",
       "      <td>1.000000</td>\n",
       "    </tr>\n",
       "  </tbody>\n",
       "</table>\n",
       "</div>"
      ],
      "text/plain": [
       "          Flight_ID  Flight_Distance  Scheduled_Departure_Time  Day_of_Week  \\\n",
       "count  3.000000e+03      3000.000000               3000.000000  3000.000000   \n",
       "mean   4.997429e+06       498.909333                 11.435000     3.963000   \n",
       "std    2.868139e+06        98.892266                  6.899298     2.016346   \n",
       "min    3.681000e+03       138.000000                  0.000000     1.000000   \n",
       "25%    2.520313e+06       431.000000                  6.000000     2.000000   \n",
       "50%    5.073096e+06       497.000000                 12.000000     4.000000   \n",
       "75%    7.462026e+06       566.000000                 17.000000     6.000000   \n",
       "max    9.999011e+06       864.000000                 23.000000     7.000000   \n",
       "\n",
       "             Month  Weather_Score  Previous_Flight_Delay_Minutes  \\\n",
       "count  3000.000000    3000.000000                    3000.000000   \n",
       "mean      6.381000       0.524023                      26.793383   \n",
       "std       3.473979       0.290694                      27.874733   \n",
       "min       1.000000       0.000965                       0.000000   \n",
       "25%       3.000000       0.278011                       7.000000   \n",
       "50%       6.000000       0.522180                      18.000000   \n",
       "75%       9.000000       0.776323                      38.000000   \n",
       "max      12.000000       1.099246                     259.000000   \n",
       "\n",
       "       Airline_Rating  Passenger_Load  Flight_Cancelled  \n",
       "count     3000.000000     3000.000000       3000.000000  \n",
       "mean         2.317439        0.515885          0.690667  \n",
       "std          1.430386        0.295634          0.462296  \n",
       "min          0.000103        0.001039          0.000000  \n",
       "25%          1.092902        0.265793          0.000000  \n",
       "50%          2.126614        0.517175          1.000000  \n",
       "75%          3.525746        0.770370          1.000000  \n",
       "max          5.189038        1.123559          1.000000  "
      ]
     },
     "execution_count": 12,
     "metadata": {},
     "output_type": "execute_result"
    }
   ],
   "source": [
    "df.describe()"
   ]
  },
  {
   "cell_type": "code",
   "execution_count": 13,
   "id": "cde7bcc6-2129-4917-8065-1018472056a8",
   "metadata": {},
   "outputs": [],
   "source": [
    "#Checking for duplicates entries \n",
    "duplicates = df[df.duplicated()]"
   ]
  },
  {
   "cell_type": "code",
   "execution_count": 16,
   "id": "2a5416e2-0fbe-424b-9f19-4788bed90054",
   "metadata": {},
   "outputs": [
    {
     "data": {
      "text/html": [
       "<div>\n",
       "<style scoped>\n",
       "    .dataframe tbody tr th:only-of-type {\n",
       "        vertical-align: middle;\n",
       "    }\n",
       "\n",
       "    .dataframe tbody tr th {\n",
       "        vertical-align: top;\n",
       "    }\n",
       "\n",
       "    .dataframe thead th {\n",
       "        text-align: right;\n",
       "    }\n",
       "</style>\n",
       "<table border=\"1\" class=\"dataframe\">\n",
       "  <thead>\n",
       "    <tr style=\"text-align: right;\">\n",
       "      <th></th>\n",
       "      <th>Flight_ID</th>\n",
       "      <th>Airline</th>\n",
       "      <th>Flight_Distance</th>\n",
       "      <th>Origin_Airport</th>\n",
       "      <th>Destination_Airport</th>\n",
       "      <th>Scheduled_Departure_Time</th>\n",
       "      <th>Day_of_Week</th>\n",
       "      <th>Month</th>\n",
       "      <th>Airplane_Type</th>\n",
       "      <th>Weather_Score</th>\n",
       "      <th>Previous_Flight_Delay_Minutes</th>\n",
       "      <th>Airline_Rating</th>\n",
       "      <th>Passenger_Load</th>\n",
       "      <th>Flight_Cancelled</th>\n",
       "    </tr>\n",
       "  </thead>\n",
       "  <tbody>\n",
       "  </tbody>\n",
       "</table>\n",
       "</div>"
      ],
      "text/plain": [
       "Empty DataFrame\n",
       "Columns: [Flight_ID, Airline, Flight_Distance, Origin_Airport, Destination_Airport, Scheduled_Departure_Time, Day_of_Week, Month, Airplane_Type, Weather_Score, Previous_Flight_Delay_Minutes, Airline_Rating, Passenger_Load, Flight_Cancelled]\n",
       "Index: []"
      ]
     },
     "execution_count": 16,
     "metadata": {},
     "output_type": "execute_result"
    }
   ],
   "source": [
    "duplicates"
   ]
  },
  {
   "cell_type": "markdown",
   "id": "695ef9b3-ba71-41a6-9ffe-aa528f487668",
   "metadata": {},
   "source": [
    "No duplicates on the dataset"
   ]
  },
  {
   "cell_type": "markdown",
   "id": "2de82b7d-57ef-4b6f-aa85-477e52116b82",
   "metadata": {},
   "source": [
    "**CHECKING FOR MISSING VALUES**"
   ]
  },
  {
   "cell_type": "code",
   "execution_count": 18,
   "id": "edf8d503-a340-4fbd-92e7-e08efaec9f5c",
   "metadata": {},
   "outputs": [
    {
     "data": {
      "text/plain": [
       "Flight_ID                        0\n",
       "Airline                          0\n",
       "Flight_Distance                  0\n",
       "Origin_Airport                   0\n",
       "Destination_Airport              0\n",
       "Scheduled_Departure_Time         0\n",
       "Day_of_Week                      0\n",
       "Month                            0\n",
       "Airplane_Type                    0\n",
       "Weather_Score                    0\n",
       "Previous_Flight_Delay_Minutes    0\n",
       "Airline_Rating                   0\n",
       "Passenger_Load                   0\n",
       "Flight_Cancelled                 0\n",
       "dtype: int64"
      ]
     },
     "execution_count": 18,
     "metadata": {},
     "output_type": "execute_result"
    }
   ],
   "source": [
    "df.isnull().sum()"
   ]
  },
  {
   "cell_type": "markdown",
   "id": "2d68d8fb-8254-4666-99e0-4dd3e121f9ba",
   "metadata": {},
   "source": [
    "**There are no missing values**"
   ]
  },
  {
   "cell_type": "markdown",
   "id": "08056371-50d8-40b9-b350-130d93248e72",
   "metadata": {},
   "source": [
    "**CHECKING FOR OUTLIERS**"
   ]
  },
  {
   "cell_type": "code",
   "execution_count": 22,
   "id": "8d9f6c2a-fca4-461d-b6ef-9fb30fe680db",
   "metadata": {},
   "outputs": [],
   "source": [
    "#Used boxplot to visually check outliers"
   ]
  },
  {
   "cell_type": "code",
   "execution_count": 20,
   "id": "e718e1cc-46f4-41e6-8b12-f376581e2e32",
   "metadata": {},
   "outputs": [],
   "source": [
    "columns_to_check =['Flight_Distance',\n",
    "          'Scheduled_Departure_Time',\n",
    "          'Weather_Score',\n",
    "          'Previous_Flight_Delay_Minutes', \n",
    "          'Airline_Rating', 'Passenger_Load',\n",
    "          'Flight_Cancelled'\n",
    "         ]"
   ]
  },
  {
   "cell_type": "code",
   "execution_count": 21,
   "id": "b63015f0-f2bc-4c33-8760-fd34bcace745",
   "metadata": {},
   "outputs": [
    {
     "data": {
      "image/png": "[encoded data removed]",
      "text/plain": [
       "<Figure size 1500x1000 with 7 Axes>"
      ]
     },
     "metadata": {},
     "output_type": "display_data"
    }
   ],
   "source": [
    "plt.figure(figsize =(15,10))\n",
    "for i, col in enumerate(columns_to_check, 1):\n",
    "    plt.subplot(3,3, i)\n",
    "    sns.boxplot(x=df[col])\n",
    "    plt.title(f'Box Plot of {col}')\n",
    "plt.tight_layout()\n",
    "plt.show()"
   ]
  },
  {
   "cell_type": "markdown",
   "id": "42febd78-ef88-4b2a-aacf-e93a80b7fbd6",
   "metadata": {},
   "source": [
    "This plots shows that the following columns have outliers and have to be handled \n",
    "1. Flight_Distance\n",
    "2. Previous_Flight_Delay_Minutes"
   ]
  },
  {
   "cell_type": "markdown",
   "id": "4f4c9760-3374-4f0d-8bbd-1f4e4a6949e4",
   "metadata": {},
   "source": [
    "1. Handling outliers for Flight_Distance column using Capping method \n",
    "Because it reduces the impact of extreme outliers, which can distort the analysis."
   ]
  },
  {
   "cell_type": "code",
   "execution_count": 30,
   "id": "339fa0f1-b1bc-49be-84e2-d11c9ab34481",
   "metadata": {},
   "outputs": [],
   "source": [
    "#Handling outliers on Flight Distance using Capping approach \n",
    "\n",
    "#applying threshold\n",
    "cap_max = df['Flight_Distance'].quantile(0.95)\n",
    "cap_min =df['Flight_Distance'].quantile(0.05)\n",
    "#Apply capping\n",
    "df['Capped_Flight_Distance'] = np.clip(df['Flight_Distance'], cap_min, cap_max)\n"
   ]
  },
  {
   "cell_type": "code",
   "execution_count": 31,
   "id": "cefacc13-33e7-4fad-8df8-b1c287eac867",
   "metadata": {},
   "outputs": [
    {
     "data": {
      "image/png": "[encoded data removed]",
      "text/plain": [
       "<Figure size 800x600 with 1 Axes>"
      ]
     },
     "metadata": {},
     "output_type": "display_data"
    }
   ],
   "source": [
    "#Plotting transformed column\n",
    "plt.figure(figsize =(8,6))\n",
    "sns.boxplot(x=df['Capped_Flight_Distance'])\n",
    "plt.title('Box plot of Capped_Flight_Distance')\n",
    "plt.show()"
   ]
  },
  {
   "cell_type": "markdown",
   "id": "3ef50f94-b95c-4499-a9c7-7b0b731f8e93",
   "metadata": {},
   "source": [
    "**The results shows no more outliers for Flight_Distance**"
   ]
  },
  {
   "cell_type": "markdown",
   "id": "4d2247be-c54f-49a6-84bd-0c4a31b4fcf6",
   "metadata": {},
   "source": [
    "2. Handling Outliers for Previous_Flight_Delay_Minutes Using Log Transformation\n",
    "because data is skewed,  compressing the range of delay times, reducing the impact of extreme values."
   ]
  },
  {
   "cell_type": "code",
   "execution_count": 25,
   "id": "518e45fc-4cee-45ac-873e-77be40c90f08",
   "metadata": {},
   "outputs": [],
   "source": [
    "#creating a new column and applying the log\n",
    "df['Log_Previous_Flight_Delay_Minutes'] = np.log1p(df['Previous_Flight_Delay_Minutes'])"
   ]
  },
  {
   "cell_type": "code",
   "execution_count": 26,
   "id": "4f89c6bc-8879-487f-9f93-b681a21088d2",
   "metadata": {},
   "outputs": [
    {
     "data": {
      "image/png": "[encoded data removed]",
      "text/plain": [
       "<Figure size 800x600 with 1 Axes>"
      ]
     },
     "metadata": {},
     "output_type": "display_data"
    }
   ],
   "source": [
    "#Plotting transformed column\n",
    "plt.figure(figsize =(8,6))\n",
    "sns.boxplot(x=df['Log_Previous_Flight_Delay_Minutes'])\n",
    "plt.title('Box plot of Log_Previous_Flight_Delay_Minutes')\n",
    "plt.show()"
   ]
  },
  {
   "cell_type": "markdown",
   "id": "4c6a18be-c2c3-47a5-b013-2c9f6fbafaae",
   "metadata": {},
   "source": [
    "**Now the outliers were handled and not showing on the plot**"
   ]
  },
  {
   "cell_type": "code",
   "execution_count": 32,
   "id": "c0af635b-2df8-4743-bd3f-7f9495b1e203",
   "metadata": {},
   "outputs": [
    {
     "data": {
      "text/html": [
       "<div>\n",
       "<style scoped>\n",
       "    .dataframe tbody tr th:only-of-type {\n",
       "        vertical-align: middle;\n",
       "    }\n",
       "\n",
       "    .dataframe tbody tr th {\n",
       "        vertical-align: top;\n",
       "    }\n",
       "\n",
       "    .dataframe thead th {\n",
       "        text-align: right;\n",
       "    }\n",
       "</style>\n",
       "<table border=\"1\" class=\"dataframe\">\n",
       "  <thead>\n",
       "    <tr style=\"text-align: right;\">\n",
       "      <th></th>\n",
       "      <th>Flight ID</th>\n",
       "      <th>Airline</th>\n",
       "      <th>Flight_Distance</th>\n",
       "      <th>Origin_Airport</th>\n",
       "      <th>Destination_Airport</th>\n",
       "      <th>Scheduled_Departure_Time</th>\n",
       "      <th>Day_of_Week</th>\n",
       "      <th>Month</th>\n",
       "      <th>Airplane_Type</th>\n",
       "      <th>Weather_Score</th>\n",
       "      <th>Previous_Flight_Delay_Minutes</th>\n",
       "      <th>Airline_Rating</th>\n",
       "      <th>Passenger_Load</th>\n",
       "      <th>Flight_Cancelled</th>\n",
       "      <th>Log_Previous_Flight_Delay_Minutes</th>\n",
       "      <th>Capped_Flight_Distance</th>\n",
       "    </tr>\n",
       "  </thead>\n",
       "  <tbody>\n",
       "    <tr>\n",
       "      <th>0</th>\n",
       "      <td>7319483</td>\n",
       "      <td>Airline D</td>\n",
       "      <td>475</td>\n",
       "      <td>Airport 3</td>\n",
       "      <td>Airport 2</td>\n",
       "      <td>4</td>\n",
       "      <td>6</td>\n",
       "      <td>1</td>\n",
       "      <td>Type C</td>\n",
       "      <td>0.225122</td>\n",
       "      <td>5.0</td>\n",
       "      <td>2.151974</td>\n",
       "      <td>0.477202</td>\n",
       "      <td>0</td>\n",
       "      <td>1.791759</td>\n",
       "      <td>475</td>\n",
       "    </tr>\n",
       "    <tr>\n",
       "      <th>1</th>\n",
       "      <td>4791965</td>\n",
       "      <td>Airline E</td>\n",
       "      <td>538</td>\n",
       "      <td>Airport 5</td>\n",
       "      <td>Airport 4</td>\n",
       "      <td>12</td>\n",
       "      <td>1</td>\n",
       "      <td>6</td>\n",
       "      <td>Type B</td>\n",
       "      <td>0.060346</td>\n",
       "      <td>68.0</td>\n",
       "      <td>1.600779</td>\n",
       "      <td>0.159718</td>\n",
       "      <td>1</td>\n",
       "      <td>4.234107</td>\n",
       "      <td>538</td>\n",
       "    </tr>\n",
       "  </tbody>\n",
       "</table>\n",
       "</div>"
      ],
      "text/plain": [
       "   Flight ID    Airline  Flight_Distance Origin_Airport Destination_Airport  \\\n",
       "0    7319483  Airline D              475      Airport 3           Airport 2   \n",
       "1    4791965  Airline E              538      Airport 5           Airport 4   \n",
       "\n",
       "   Scheduled_Departure_Time  Day_of_Week  Month Airplane_Type  Weather_Score  \\\n",
       "0                         4            6      1        Type C       0.225122   \n",
       "1                        12            1      6        Type B       0.060346   \n",
       "\n",
       "   Previous_Flight_Delay_Minutes  Airline_Rating  Passenger_Load  \\\n",
       "0                            5.0        2.151974        0.477202   \n",
       "1                           68.0        1.600779        0.159718   \n",
       "\n",
       "   Flight_Cancelled  Log_Previous_Flight_Delay_Minutes  Capped_Flight_Distance  \n",
       "0                 0                           1.791759                     475  \n",
       "1                 1                           4.234107                     538  "
      ]
     },
     "execution_count": 32,
     "metadata": {},
     "output_type": "execute_result"
    }
   ],
   "source": [
    "df.head(2)"
   ]
  },
  {
   "cell_type": "code",
   "execution_count": null,
   "id": "6a5e1cd3-72e5-4ed5-97eb-28fd12ddbc05",
   "metadata": {},
   "outputs": [],
   "source": []
  }
 ],
 "metadata": {
  "kernelspec": {
   "display_name": "Python 3 (ipykernel)",
   "language": "python",
   "name": "python3"
  },
  "language_info": {
   "codemirror_mode": {
    "name": "ipython",
    "version": 3
   },
   "file_extension": ".py",
   "mimetype": "text/x-python",
   "name": "python",
   "nbconvert_exporter": "python",
   "pygments_lexer": "ipython3",
   "version": "3.12.1"
  }
 },
 "nbformat": 4,
 "nbformat_minor": 5
}
